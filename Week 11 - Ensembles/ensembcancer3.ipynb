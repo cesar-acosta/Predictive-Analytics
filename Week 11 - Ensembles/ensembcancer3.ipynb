{
 "cells": [
  {
   "cell_type": "markdown",
   "metadata": {},
   "source": [
    "# Ensembles of Classification Trees"
   ]
  },
  {
   "cell_type": "code",
   "execution_count": 1,
   "metadata": {},
   "outputs": [],
   "source": [
    "import pandas as pd\n",
    "import numpy as np\n",
    "import matplotlib.pyplot as plt"
   ]
  },
  {
   "cell_type": "code",
   "execution_count": 2,
   "metadata": {},
   "outputs": [],
   "source": [
    "from sklearn.datasets import load_breast_cancer\n",
    "from sklearn.model_selection import train_test_split"
   ]
  },
  {
   "cell_type": "code",
   "execution_count": 3,
   "metadata": {},
   "outputs": [],
   "source": [
    "from sklearn.tree import DecisionTreeClassifier\n",
    "from sklearn.ensemble import RandomForestClassifier\n",
    "from sklearn.ensemble import GradientBoostingClassifier"
   ]
  },
  {
   "cell_type": "code",
   "execution_count": 4,
   "metadata": {},
   "outputs": [],
   "source": [
    "cancer = load_breast_cancer()"
   ]
  },
  {
   "cell_type": "code",
   "execution_count": 5,
   "metadata": {},
   "outputs": [
    {
     "data": {
      "text/html": [
       "<div>\n",
       "<style scoped>\n",
       "    .dataframe tbody tr th:only-of-type {\n",
       "        vertical-align: middle;\n",
       "    }\n",
       "\n",
       "    .dataframe tbody tr th {\n",
       "        vertical-align: top;\n",
       "    }\n",
       "\n",
       "    .dataframe thead th {\n",
       "        text-align: right;\n",
       "    }\n",
       "</style>\n",
       "<table border=\"1\" class=\"dataframe\">\n",
       "  <thead>\n",
       "    <tr style=\"text-align: right;\">\n",
       "      <th></th>\n",
       "      <th>mean radius</th>\n",
       "      <th>mean texture</th>\n",
       "      <th>mean perimeter</th>\n",
       "      <th>mean area</th>\n",
       "      <th>mean smoothness</th>\n",
       "      <th>mean compactness</th>\n",
       "      <th>mean concavity</th>\n",
       "      <th>mean concave points</th>\n",
       "      <th>mean symmetry</th>\n",
       "      <th>mean fractal dimension</th>\n",
       "      <th>...</th>\n",
       "      <th>worst radius</th>\n",
       "      <th>worst texture</th>\n",
       "      <th>worst perimeter</th>\n",
       "      <th>worst area</th>\n",
       "      <th>worst smoothness</th>\n",
       "      <th>worst compactness</th>\n",
       "      <th>worst concavity</th>\n",
       "      <th>worst concave points</th>\n",
       "      <th>worst symmetry</th>\n",
       "      <th>worst fractal dimension</th>\n",
       "    </tr>\n",
       "  </thead>\n",
       "  <tbody>\n",
       "    <tr>\n",
       "      <td>0</td>\n",
       "      <td>17.99</td>\n",
       "      <td>10.38</td>\n",
       "      <td>122.80</td>\n",
       "      <td>1001.0</td>\n",
       "      <td>0.11840</td>\n",
       "      <td>0.27760</td>\n",
       "      <td>0.3001</td>\n",
       "      <td>0.14710</td>\n",
       "      <td>0.2419</td>\n",
       "      <td>0.07871</td>\n",
       "      <td>...</td>\n",
       "      <td>25.38</td>\n",
       "      <td>17.33</td>\n",
       "      <td>184.60</td>\n",
       "      <td>2019.0</td>\n",
       "      <td>0.1622</td>\n",
       "      <td>0.6656</td>\n",
       "      <td>0.7119</td>\n",
       "      <td>0.2654</td>\n",
       "      <td>0.4601</td>\n",
       "      <td>0.11890</td>\n",
       "    </tr>\n",
       "    <tr>\n",
       "      <td>1</td>\n",
       "      <td>20.57</td>\n",
       "      <td>17.77</td>\n",
       "      <td>132.90</td>\n",
       "      <td>1326.0</td>\n",
       "      <td>0.08474</td>\n",
       "      <td>0.07864</td>\n",
       "      <td>0.0869</td>\n",
       "      <td>0.07017</td>\n",
       "      <td>0.1812</td>\n",
       "      <td>0.05667</td>\n",
       "      <td>...</td>\n",
       "      <td>24.99</td>\n",
       "      <td>23.41</td>\n",
       "      <td>158.80</td>\n",
       "      <td>1956.0</td>\n",
       "      <td>0.1238</td>\n",
       "      <td>0.1866</td>\n",
       "      <td>0.2416</td>\n",
       "      <td>0.1860</td>\n",
       "      <td>0.2750</td>\n",
       "      <td>0.08902</td>\n",
       "    </tr>\n",
       "    <tr>\n",
       "      <td>2</td>\n",
       "      <td>19.69</td>\n",
       "      <td>21.25</td>\n",
       "      <td>130.00</td>\n",
       "      <td>1203.0</td>\n",
       "      <td>0.10960</td>\n",
       "      <td>0.15990</td>\n",
       "      <td>0.1974</td>\n",
       "      <td>0.12790</td>\n",
       "      <td>0.2069</td>\n",
       "      <td>0.05999</td>\n",
       "      <td>...</td>\n",
       "      <td>23.57</td>\n",
       "      <td>25.53</td>\n",
       "      <td>152.50</td>\n",
       "      <td>1709.0</td>\n",
       "      <td>0.1444</td>\n",
       "      <td>0.4245</td>\n",
       "      <td>0.4504</td>\n",
       "      <td>0.2430</td>\n",
       "      <td>0.3613</td>\n",
       "      <td>0.08758</td>\n",
       "    </tr>\n",
       "    <tr>\n",
       "      <td>3</td>\n",
       "      <td>11.42</td>\n",
       "      <td>20.38</td>\n",
       "      <td>77.58</td>\n",
       "      <td>386.1</td>\n",
       "      <td>0.14250</td>\n",
       "      <td>0.28390</td>\n",
       "      <td>0.2414</td>\n",
       "      <td>0.10520</td>\n",
       "      <td>0.2597</td>\n",
       "      <td>0.09744</td>\n",
       "      <td>...</td>\n",
       "      <td>14.91</td>\n",
       "      <td>26.50</td>\n",
       "      <td>98.87</td>\n",
       "      <td>567.7</td>\n",
       "      <td>0.2098</td>\n",
       "      <td>0.8663</td>\n",
       "      <td>0.6869</td>\n",
       "      <td>0.2575</td>\n",
       "      <td>0.6638</td>\n",
       "      <td>0.17300</td>\n",
       "    </tr>\n",
       "    <tr>\n",
       "      <td>4</td>\n",
       "      <td>20.29</td>\n",
       "      <td>14.34</td>\n",
       "      <td>135.10</td>\n",
       "      <td>1297.0</td>\n",
       "      <td>0.10030</td>\n",
       "      <td>0.13280</td>\n",
       "      <td>0.1980</td>\n",
       "      <td>0.10430</td>\n",
       "      <td>0.1809</td>\n",
       "      <td>0.05883</td>\n",
       "      <td>...</td>\n",
       "      <td>22.54</td>\n",
       "      <td>16.67</td>\n",
       "      <td>152.20</td>\n",
       "      <td>1575.0</td>\n",
       "      <td>0.1374</td>\n",
       "      <td>0.2050</td>\n",
       "      <td>0.4000</td>\n",
       "      <td>0.1625</td>\n",
       "      <td>0.2364</td>\n",
       "      <td>0.07678</td>\n",
       "    </tr>\n",
       "  </tbody>\n",
       "</table>\n",
       "<p>5 rows × 30 columns</p>\n",
       "</div>"
      ],
      "text/plain": [
       "   mean radius  mean texture  mean perimeter  mean area  mean smoothness  \\\n",
       "0        17.99         10.38          122.80     1001.0          0.11840   \n",
       "1        20.57         17.77          132.90     1326.0          0.08474   \n",
       "2        19.69         21.25          130.00     1203.0          0.10960   \n",
       "3        11.42         20.38           77.58      386.1          0.14250   \n",
       "4        20.29         14.34          135.10     1297.0          0.10030   \n",
       "\n",
       "   mean compactness  mean concavity  mean concave points  mean symmetry  \\\n",
       "0           0.27760          0.3001              0.14710         0.2419   \n",
       "1           0.07864          0.0869              0.07017         0.1812   \n",
       "2           0.15990          0.1974              0.12790         0.2069   \n",
       "3           0.28390          0.2414              0.10520         0.2597   \n",
       "4           0.13280          0.1980              0.10430         0.1809   \n",
       "\n",
       "   mean fractal dimension  ...  worst radius  worst texture  worst perimeter  \\\n",
       "0                 0.07871  ...         25.38          17.33           184.60   \n",
       "1                 0.05667  ...         24.99          23.41           158.80   \n",
       "2                 0.05999  ...         23.57          25.53           152.50   \n",
       "3                 0.09744  ...         14.91          26.50            98.87   \n",
       "4                 0.05883  ...         22.54          16.67           152.20   \n",
       "\n",
       "   worst area  worst smoothness  worst compactness  worst concavity  \\\n",
       "0      2019.0            0.1622             0.6656           0.7119   \n",
       "1      1956.0            0.1238             0.1866           0.2416   \n",
       "2      1709.0            0.1444             0.4245           0.4504   \n",
       "3       567.7            0.2098             0.8663           0.6869   \n",
       "4      1575.0            0.1374             0.2050           0.4000   \n",
       "\n",
       "   worst concave points  worst symmetry  worst fractal dimension  \n",
       "0                0.2654          0.4601                  0.11890  \n",
       "1                0.1860          0.2750                  0.08902  \n",
       "2                0.2430          0.3613                  0.08758  \n",
       "3                0.2575          0.6638                  0.17300  \n",
       "4                0.1625          0.2364                  0.07678  \n",
       "\n",
       "[5 rows x 30 columns]"
      ]
     },
     "execution_count": 5,
     "metadata": {},
     "output_type": "execute_result"
    }
   ],
   "source": [
    "list1 = list(cancer.feature_names)\n",
    "df0 = pd.DataFrame(cancer.data,columns = list1)\n",
    "df0[:5]"
   ]
  },
  {
   "cell_type": "code",
   "execution_count": 6,
   "metadata": {},
   "outputs": [],
   "source": [
    "y = cancer.target\n",
    "X = cancer.data"
   ]
  },
  {
   "cell_type": "code",
   "execution_count": 7,
   "metadata": {},
   "outputs": [
    {
     "data": {
      "text/plain": [
       "(569, 30)"
      ]
     },
     "execution_count": 7,
     "metadata": {},
     "output_type": "execute_result"
    }
   ],
   "source": [
    "X.shape"
   ]
  },
  {
   "cell_type": "markdown",
   "metadata": {},
   "source": [
    "### Validation Approach"
   ]
  },
  {
   "cell_type": "code",
   "execution_count": 8,
   "metadata": {},
   "outputs": [],
   "source": [
    "X_train,X_test,y_train,y_test = train_test_split(X,y,stratify = y,\n",
    "                                                 random_state = 0)"
   ]
  },
  {
   "cell_type": "markdown",
   "metadata": {},
   "source": [
    "#### Single Tree (max_depth = 4)"
   ]
  },
  {
   "cell_type": "code",
   "execution_count": 9,
   "metadata": {},
   "outputs": [
    {
     "data": {
      "text/plain": [
       "0.9230769230769231"
      ]
     },
     "execution_count": 9,
     "metadata": {},
     "output_type": "execute_result"
    }
   ],
   "source": [
    "tree1 = DecisionTreeClassifier(max_depth = 4)\n",
    "tree1.fit(X_train,y_train)\n",
    "pred = tree1.predict(X_test)\n",
    "tree1.score(X_test,y_test)"
   ]
  },
  {
   "cell_type": "markdown",
   "metadata": {},
   "source": [
    "### Bagging on B = 500 Classification Trees"
   ]
  },
  {
   "cell_type": "code",
   "execution_count": 10,
   "metadata": {},
   "outputs": [
    {
     "data": {
      "text/plain": [
       "0.9300699300699301"
      ]
     },
     "execution_count": 10,
     "metadata": {},
     "output_type": "execute_result"
    }
   ],
   "source": [
    "bag_model = RandomForestClassifier(max_features = 30,\n",
    "                                   max_depth = 4,\n",
    "                                   n_estimators = 500,\n",
    "                                   random_state=0)\n",
    "bag_model.fit(X_train,y_train)\n",
    "pred = bag_model.predict(X_test)\n",
    "bag_model.score(X_test,y_test)"
   ]
  },
  {
   "cell_type": "markdown",
   "metadata": {},
   "source": [
    "#### Changing B=500 to B=25 trees"
   ]
  },
  {
   "cell_type": "code",
   "execution_count": 11,
   "metadata": {},
   "outputs": [
    {
     "data": {
      "text/plain": [
       "0.9230769230769231"
      ]
     },
     "execution_count": 11,
     "metadata": {},
     "output_type": "execute_result"
    }
   ],
   "source": [
    "bag_model2 = RandomForestClassifier(max_features = 30,\n",
    "                                   max_depth = 4,                                    \n",
    "                                   n_estimators = 25,\n",
    "                                    random_state=0)\n",
    "bag_model2.fit(X_train,y_train)\n",
    "pred = bag_model2.predict(X_test)\n",
    "bag_model2.score(X_test,y_test)"
   ]
  },
  {
   "cell_type": "markdown",
   "metadata": {},
   "source": [
    "## Random Forest on Classification Trees"
   ]
  },
  {
   "cell_type": "code",
   "execution_count": 12,
   "metadata": {},
   "outputs": [],
   "source": [
    "# Not all 13 predictors will be considered at each split\n",
    "# max_features m < n. predictors p"
   ]
  },
  {
   "cell_type": "code",
   "execution_count": 13,
   "metadata": {},
   "outputs": [],
   "source": [
    "# I will use m = 4 predictors only"
   ]
  },
  {
   "cell_type": "code",
   "execution_count": 14,
   "metadata": {},
   "outputs": [
    {
     "data": {
      "text/plain": [
       "0.9440559440559441"
      ]
     },
     "execution_count": 14,
     "metadata": {},
     "output_type": "execute_result"
    }
   ],
   "source": [
    "forest = RandomForestClassifier(max_features = 5,n_estimators = 500,\n",
    "                                max_depth = 4,random_state = 1)\n",
    "forest.fit(X_train,y_train)\n",
    "forest.score(X_test,y_test)"
   ]
  },
  {
   "cell_type": "markdown",
   "metadata": {},
   "source": [
    "#### Changing B=500 to B=25 trees"
   ]
  },
  {
   "cell_type": "code",
   "execution_count": 15,
   "metadata": {},
   "outputs": [
    {
     "data": {
      "text/plain": [
       "0.9370629370629371"
      ]
     },
     "execution_count": 15,
     "metadata": {},
     "output_type": "execute_result"
    }
   ],
   "source": [
    "forest2 = RandomForestClassifier(max_features = 5,n_estimators = 25,\n",
    "                                max_depth = 4,random_state = 1)\n",
    "forest2.fit(X_train,y_train)\n",
    "forest2.score(X_test,y_test)"
   ]
  },
  {
   "cell_type": "markdown",
   "metadata": {},
   "source": [
    "### importance of each predictor (feature importance)"
   ]
  },
  {
   "cell_type": "code",
   "execution_count": 16,
   "metadata": {},
   "outputs": [],
   "source": [
    "# Using B=500 model"
   ]
  },
  {
   "cell_type": "code",
   "execution_count": 17,
   "metadata": {},
   "outputs": [
    {
     "data": {
      "text/plain": [
       "array([0.0392008 , 0.01166103, 0.05184134, 0.04173711, 0.0035946 ,\n",
       "       0.0101669 , 0.06064789, 0.1038886 , 0.00269401, 0.00280126,\n",
       "       0.01117846, 0.00446715, 0.01208892, 0.03068875, 0.00265304,\n",
       "       0.00383106, 0.00567973, 0.00259535, 0.00176844, 0.00177464,\n",
       "       0.11579474, 0.01350636, 0.14129173, 0.11495622, 0.00969281,\n",
       "       0.01269216, 0.04033597, 0.13576649, 0.00626952, 0.00473491])"
      ]
     },
     "execution_count": 17,
     "metadata": {},
     "output_type": "execute_result"
    }
   ],
   "source": [
    "forest = RandomForestClassifier(max_features = 5,n_estimators = 500,\n",
    "                                max_depth = 4,random_state = 1)\n",
    "forest.fit(X_train,y_train)\n",
    "forest.feature_importances_"
   ]
  },
  {
   "cell_type": "code",
   "execution_count": 18,
   "metadata": {},
   "outputs": [
    {
     "data": {
      "text/plain": [
       "array(['mean radius', 'mean texture', 'mean perimeter', 'mean area',\n",
       "       'mean smoothness', 'mean compactness', 'mean concavity',\n",
       "       'mean concave points', 'mean symmetry', 'mean fractal dimension',\n",
       "       'radius error', 'texture error', 'perimeter error', 'area error',\n",
       "       'smoothness error', 'compactness error', 'concavity error',\n",
       "       'concave points error', 'symmetry error',\n",
       "       'fractal dimension error', 'worst radius', 'worst texture',\n",
       "       'worst perimeter', 'worst area', 'worst smoothness',\n",
       "       'worst compactness', 'worst concavity', 'worst concave points',\n",
       "       'worst symmetry', 'worst fractal dimension'], dtype='<U23')"
      ]
     },
     "execution_count": 18,
     "metadata": {},
     "output_type": "execute_result"
    }
   ],
   "source": [
    "cancer.feature_names"
   ]
  },
  {
   "cell_type": "code",
   "execution_count": 19,
   "metadata": {},
   "outputs": [
    {
     "data": {
      "text/html": [
       "<div>\n",
       "<style scoped>\n",
       "    .dataframe tbody tr th:only-of-type {\n",
       "        vertical-align: middle;\n",
       "    }\n",
       "\n",
       "    .dataframe tbody tr th {\n",
       "        vertical-align: top;\n",
       "    }\n",
       "\n",
       "    .dataframe thead th {\n",
       "        text-align: right;\n",
       "    }\n",
       "</style>\n",
       "<table border=\"1\" class=\"dataframe\">\n",
       "  <thead>\n",
       "    <tr style=\"text-align: right;\">\n",
       "      <th></th>\n",
       "      <th>Importance</th>\n",
       "    </tr>\n",
       "  </thead>\n",
       "  <tbody>\n",
       "    <tr>\n",
       "      <td>worst perimeter</td>\n",
       "      <td>14.129173</td>\n",
       "    </tr>\n",
       "    <tr>\n",
       "      <td>worst concave points</td>\n",
       "      <td>13.576649</td>\n",
       "    </tr>\n",
       "    <tr>\n",
       "      <td>worst radius</td>\n",
       "      <td>11.579474</td>\n",
       "    </tr>\n",
       "    <tr>\n",
       "      <td>worst area</td>\n",
       "      <td>11.495622</td>\n",
       "    </tr>\n",
       "    <tr>\n",
       "      <td>mean concave points</td>\n",
       "      <td>10.388860</td>\n",
       "    </tr>\n",
       "    <tr>\n",
       "      <td>mean concavity</td>\n",
       "      <td>6.064789</td>\n",
       "    </tr>\n",
       "    <tr>\n",
       "      <td>mean perimeter</td>\n",
       "      <td>5.184134</td>\n",
       "    </tr>\n",
       "    <tr>\n",
       "      <td>mean area</td>\n",
       "      <td>4.173711</td>\n",
       "    </tr>\n",
       "    <tr>\n",
       "      <td>worst concavity</td>\n",
       "      <td>4.033597</td>\n",
       "    </tr>\n",
       "    <tr>\n",
       "      <td>mean radius</td>\n",
       "      <td>3.920080</td>\n",
       "    </tr>\n",
       "    <tr>\n",
       "      <td>area error</td>\n",
       "      <td>3.068875</td>\n",
       "    </tr>\n",
       "    <tr>\n",
       "      <td>worst texture</td>\n",
       "      <td>1.350636</td>\n",
       "    </tr>\n",
       "    <tr>\n",
       "      <td>worst compactness</td>\n",
       "      <td>1.269216</td>\n",
       "    </tr>\n",
       "    <tr>\n",
       "      <td>perimeter error</td>\n",
       "      <td>1.208892</td>\n",
       "    </tr>\n",
       "    <tr>\n",
       "      <td>mean texture</td>\n",
       "      <td>1.166103</td>\n",
       "    </tr>\n",
       "    <tr>\n",
       "      <td>radius error</td>\n",
       "      <td>1.117846</td>\n",
       "    </tr>\n",
       "    <tr>\n",
       "      <td>mean compactness</td>\n",
       "      <td>1.016690</td>\n",
       "    </tr>\n",
       "    <tr>\n",
       "      <td>worst smoothness</td>\n",
       "      <td>0.969281</td>\n",
       "    </tr>\n",
       "    <tr>\n",
       "      <td>worst symmetry</td>\n",
       "      <td>0.626952</td>\n",
       "    </tr>\n",
       "    <tr>\n",
       "      <td>concavity error</td>\n",
       "      <td>0.567973</td>\n",
       "    </tr>\n",
       "    <tr>\n",
       "      <td>worst fractal dimension</td>\n",
       "      <td>0.473491</td>\n",
       "    </tr>\n",
       "    <tr>\n",
       "      <td>texture error</td>\n",
       "      <td>0.446715</td>\n",
       "    </tr>\n",
       "    <tr>\n",
       "      <td>compactness error</td>\n",
       "      <td>0.383106</td>\n",
       "    </tr>\n",
       "    <tr>\n",
       "      <td>mean smoothness</td>\n",
       "      <td>0.359460</td>\n",
       "    </tr>\n",
       "    <tr>\n",
       "      <td>mean fractal dimension</td>\n",
       "      <td>0.280126</td>\n",
       "    </tr>\n",
       "    <tr>\n",
       "      <td>mean symmetry</td>\n",
       "      <td>0.269401</td>\n",
       "    </tr>\n",
       "    <tr>\n",
       "      <td>smoothness error</td>\n",
       "      <td>0.265304</td>\n",
       "    </tr>\n",
       "    <tr>\n",
       "      <td>concave points error</td>\n",
       "      <td>0.259535</td>\n",
       "    </tr>\n",
       "    <tr>\n",
       "      <td>fractal dimension error</td>\n",
       "      <td>0.177464</td>\n",
       "    </tr>\n",
       "    <tr>\n",
       "      <td>symmetry error</td>\n",
       "      <td>0.176844</td>\n",
       "    </tr>\n",
       "  </tbody>\n",
       "</table>\n",
       "</div>"
      ],
      "text/plain": [
       "                         Importance\n",
       "worst perimeter           14.129173\n",
       "worst concave points      13.576649\n",
       "worst radius              11.579474\n",
       "worst area                11.495622\n",
       "mean concave points       10.388860\n",
       "mean concavity             6.064789\n",
       "mean perimeter             5.184134\n",
       "mean area                  4.173711\n",
       "worst concavity            4.033597\n",
       "mean radius                3.920080\n",
       "area error                 3.068875\n",
       "worst texture              1.350636\n",
       "worst compactness          1.269216\n",
       "perimeter error            1.208892\n",
       "mean texture               1.166103\n",
       "radius error               1.117846\n",
       "mean compactness           1.016690\n",
       "worst smoothness           0.969281\n",
       "worst symmetry             0.626952\n",
       "concavity error            0.567973\n",
       "worst fractal dimension    0.473491\n",
       "texture error              0.446715\n",
       "compactness error          0.383106\n",
       "mean smoothness            0.359460\n",
       "mean fractal dimension     0.280126\n",
       "mean symmetry              0.269401\n",
       "smoothness error           0.265304\n",
       "concave points error       0.259535\n",
       "fractal dimension error    0.177464\n",
       "symmetry error             0.176844"
      ]
     },
     "execution_count": 19,
     "metadata": {},
     "output_type": "execute_result"
    }
   ],
   "source": [
    "df9 = pd.DataFrame(forest.feature_importances_*100,\n",
    "                   index = cancer.feature_names,\n",
    "                   columns = ['Importance'])\n",
    "df9 = df9.sort_values(by='Importance',axis=0,ascending = False)\n",
    "df9"
   ]
  },
  {
   "cell_type": "code",
   "execution_count": 20,
   "metadata": {},
   "outputs": [
    {
     "data": {
      "image/png": "[encoded data removed]",
      "text/plain": [
       "<Figure size 432x288 with 1 Axes>"
      ]
     },
     "metadata": {
      "needs_background": "light"
     },
     "output_type": "display_data"
    }
   ],
   "source": [
    "df9 = df9.sort_values(by='Importance',axis=0)\n",
    "df9.plot(kind='barh',color='r',legend=False)\n",
    "plt.xlabel('Importance')\n",
    "plt.grid()"
   ]
  },
  {
   "cell_type": "markdown",
   "metadata": {},
   "source": [
    "Top five are most important features"
   ]
  },
  {
   "cell_type": "markdown",
   "metadata": {},
   "source": [
    "## Boosting (0.01 learning rate)"
   ]
  },
  {
   "cell_type": "code",
   "execution_count": 21,
   "metadata": {},
   "outputs": [],
   "source": [
    "# limit the depth of the trees to 4 splits"
   ]
  },
  {
   "cell_type": "code",
   "execution_count": 22,
   "metadata": {},
   "outputs": [
    {
     "data": {
      "text/plain": [
       "0.9230769230769231"
      ]
     },
     "execution_count": 22,
     "metadata": {},
     "output_type": "execute_result"
    }
   ],
   "source": [
    "model1 = GradientBoostingClassifier(n_estimators = 25,\n",
    "                                     learning_rate = 0.01,\n",
    "                                     max_depth = 4, random_state =1)\n",
    "model1.fit(X_train,y_train)\n",
    "model1.score(X_test,y_test)"
   ]
  },
  {
   "cell_type": "markdown",
   "metadata": {},
   "source": [
    "### Change learning rate to 0.10"
   ]
  },
  {
   "cell_type": "code",
   "execution_count": 23,
   "metadata": {},
   "outputs": [
    {
     "data": {
      "text/plain": [
       "0.951048951048951"
      ]
     },
     "execution_count": 23,
     "metadata": {},
     "output_type": "execute_result"
    }
   ],
   "source": [
    "model2 = GradientBoostingClassifier(n_estimators = 25,\n",
    "                                      learning_rate = 0.1,\n",
    "                                      max_depth = 4, random_state =1)\n",
    "model2.fit(X_train,y_train)\n",
    "model2.score(X_test,y_test)"
   ]
  },
  {
   "cell_type": "code",
   "execution_count": 24,
   "metadata": {},
   "outputs": [
    {
     "data": {
      "text/html": [
       "<div>\n",
       "<style scoped>\n",
       "    .dataframe tbody tr th:only-of-type {\n",
       "        vertical-align: middle;\n",
       "    }\n",
       "\n",
       "    .dataframe tbody tr th {\n",
       "        vertical-align: top;\n",
       "    }\n",
       "\n",
       "    .dataframe thead th {\n",
       "        text-align: right;\n",
       "    }\n",
       "</style>\n",
       "<table border=\"1\" class=\"dataframe\">\n",
       "  <thead>\n",
       "    <tr style=\"text-align: right;\">\n",
       "      <th></th>\n",
       "      <th>Importance</th>\n",
       "    </tr>\n",
       "  </thead>\n",
       "  <tbody>\n",
       "    <tr>\n",
       "      <td>worst perimeter</td>\n",
       "      <td>73.709612</td>\n",
       "    </tr>\n",
       "    <tr>\n",
       "      <td>worst concave points</td>\n",
       "      <td>7.801738</td>\n",
       "    </tr>\n",
       "    <tr>\n",
       "      <td>mean concave points</td>\n",
       "      <td>4.010190</td>\n",
       "    </tr>\n",
       "    <tr>\n",
       "      <td>worst texture</td>\n",
       "      <td>3.783620</td>\n",
       "    </tr>\n",
       "    <tr>\n",
       "      <td>mean texture</td>\n",
       "      <td>2.604245</td>\n",
       "    </tr>\n",
       "    <tr>\n",
       "      <td>concave points error</td>\n",
       "      <td>1.915741</td>\n",
       "    </tr>\n",
       "    <tr>\n",
       "      <td>worst radius</td>\n",
       "      <td>1.541126</td>\n",
       "    </tr>\n",
       "    <tr>\n",
       "      <td>worst area</td>\n",
       "      <td>1.366006</td>\n",
       "    </tr>\n",
       "    <tr>\n",
       "      <td>area error</td>\n",
       "      <td>1.000423</td>\n",
       "    </tr>\n",
       "    <tr>\n",
       "      <td>mean symmetry</td>\n",
       "      <td>0.706863</td>\n",
       "    </tr>\n",
       "    <tr>\n",
       "      <td>texture error</td>\n",
       "      <td>0.420015</td>\n",
       "    </tr>\n",
       "  </tbody>\n",
       "</table>\n",
       "</div>"
      ],
      "text/plain": [
       "                      Importance\n",
       "worst perimeter        73.709612\n",
       "worst concave points    7.801738\n",
       "mean concave points     4.010190\n",
       "worst texture           3.783620\n",
       "mean texture            2.604245\n",
       "concave points error    1.915741\n",
       "worst radius            1.541126\n",
       "worst area              1.366006\n",
       "area error              1.000423\n",
       "mean symmetry           0.706863\n",
       "texture error           0.420015"
      ]
     },
     "execution_count": 24,
     "metadata": {},
     "output_type": "execute_result"
    }
   ],
   "source": [
    "# feature importance from model2\n",
    "df9 = pd.DataFrame(model2.feature_importances_*100,\n",
    "                   index = cancer.feature_names,\n",
    "                   columns = ['Importance'])\n",
    "df9 = df9.sort_values(by='Importance',axis=0,ascending = False)\n",
    "df9[:11]"
   ]
  },
  {
   "cell_type": "code",
   "execution_count": 25,
   "metadata": {},
   "outputs": [
    {
     "data": {
      "image/png": "[encoded data removed]",
      "text/plain": [
       "<Figure size 432x288 with 1 Axes>"
      ]
     },
     "metadata": {
      "needs_background": "light"
     },
     "output_type": "display_data"
    }
   ],
   "source": [
    "df9 = df9.sort_values(by='Importance',axis=0)\n",
    "df9.plot(kind='barh',color='r',legend=False)\n",
    "plt.xlabel('Importance')\n",
    "plt.grid()"
   ]
  },
  {
   "cell_type": "markdown",
   "metadata": {},
   "source": [
    "Only nine features are important"
   ]
  },
  {
   "cell_type": "markdown",
   "metadata": {},
   "source": [
    "## Use of GridSearchCV"
   ]
  },
  {
   "cell_type": "code",
   "execution_count": 26,
   "metadata": {},
   "outputs": [],
   "source": [
    "from sklearn.model_selection import GridSearchCV"
   ]
  },
  {
   "cell_type": "code",
   "execution_count": 27,
   "metadata": {},
   "outputs": [],
   "source": [
    "X_train,X_test,y_train,y_test = train_test_split(X,y,stratify = y,\n",
    "                                                 random_state = 0)\n",
    "model3 = GradientBoostingClassifier(n_estimators = 25,\n",
    "                                      max_depth = 4, random_state =1)"
   ]
  },
  {
   "cell_type": "code",
   "execution_count": 28,
   "metadata": {},
   "outputs": [
    {
     "data": {
      "text/plain": [
       "array([0.01      , 0.06571429, 0.12142857, 0.17714286, 0.23285714,\n",
       "       0.28857143, 0.34428571, 0.4       ])"
      ]
     },
     "execution_count": 28,
     "metadata": {},
     "output_type": "execute_result"
    }
   ],
   "source": [
    "lrates = np.linspace(0.01,0.4,8)\n",
    "lrates"
   ]
  },
  {
   "cell_type": "code",
   "execution_count": 29,
   "metadata": {},
   "outputs": [],
   "source": [
    "params = dict(learning_rate = lrates)"
   ]
  },
  {
   "cell_type": "code",
   "execution_count": 30,
   "metadata": {},
   "outputs": [
    {
     "data": {
      "text/plain": [
       "0.9440559440559441"
      ]
     },
     "execution_count": 30,
     "metadata": {},
     "output_type": "execute_result"
    }
   ],
   "source": [
    "grid1 = GridSearchCV(model3,param_grid = params,cv = 5)\n",
    "grid1.fit(X_train,y_train)\n",
    "grid1.score(X_test,y_test)"
   ]
  },
  {
   "cell_type": "code",
   "execution_count": 31,
   "metadata": {},
   "outputs": [
    {
     "data": {
      "text/plain": [
       "{'learning_rate': 0.12142857142857143}"
      ]
     },
     "execution_count": 31,
     "metadata": {},
     "output_type": "execute_result"
    }
   ],
   "source": [
    "grid1.best_params_"
   ]
  },
  {
   "cell_type": "markdown",
   "metadata": {},
   "source": [
    "## GridSearchCV -two parameters"
   ]
  },
  {
   "cell_type": "code",
   "execution_count": 32,
   "metadata": {},
   "outputs": [
    {
     "data": {
      "text/plain": [
       "{'learning_rate': array([0.02 , 0.025, 0.03 , 0.035, 0.04 , 0.045]),\n",
       " 'max_features': [3, 4, 5, 6, 7, 8]}"
      ]
     },
     "execution_count": 32,
     "metadata": {},
     "output_type": "execute_result"
    }
   ],
   "source": [
    "# Consider 6 values for each parameter\n",
    "params = {'learning_rate': np.arange(0.02,0.05,0.005),\n",
    "              'max_features': list(range(3,9))}\n",
    "params"
   ]
  },
  {
   "cell_type": "code",
   "execution_count": 33,
   "metadata": {},
   "outputs": [
    {
     "data": {
      "text/plain": [
       "0.958041958041958"
      ]
     },
     "execution_count": 33,
     "metadata": {},
     "output_type": "execute_result"
    }
   ],
   "source": [
    "grid2 = GridSearchCV(model3, param_grid = params,cv = 5)\n",
    "grid2.fit(X_train,y_train)\n",
    "grid2.score(X_test,y_test)"
   ]
  },
  {
   "cell_type": "code",
   "execution_count": 34,
   "metadata": {},
   "outputs": [
    {
     "data": {
      "text/plain": [
       "{'learning_rate': 0.04000000000000001, 'max_features': 8}"
      ]
     },
     "execution_count": 34,
     "metadata": {},
     "output_type": "execute_result"
    }
   ],
   "source": [
    "grid2.best_params_"
   ]
  },
  {
   "cell_type": "markdown",
   "metadata": {},
   "source": [
    "cv_results_ has the accuracy rates of each fold and their average in column mean_test_score"
   ]
  },
  {
   "cell_type": "code",
   "execution_count": 35,
   "metadata": {},
   "outputs": [],
   "source": [
    "# grid2.cv_results_ has information\n",
    "# about the results of each fold\n",
    "# and the average accuracy rate\n",
    "# for each value of learning_rate, max_features"
   ]
  },
  {
   "cell_type": "code",
   "execution_count": 36,
   "metadata": {},
   "outputs": [
    {
     "data": {
      "text/plain": [
       "mean_fit_time          float64\n",
       "std_fit_time           float64\n",
       "mean_score_time        float64\n",
       "std_score_time         float64\n",
       "param_learning_rate     object\n",
       "param_max_features      object\n",
       "params                  object\n",
       "split0_test_score      float64\n",
       "split1_test_score      float64\n",
       "split2_test_score      float64\n",
       "split3_test_score      float64\n",
       "split4_test_score      float64\n",
       "mean_test_score        float64\n",
       "std_test_score         float64\n",
       "rank_test_score          int32\n",
       "dtype: object"
      ]
     },
     "execution_count": 36,
     "metadata": {},
     "output_type": "execute_result"
    }
   ],
   "source": [
    "# store the results into dataframe\n",
    "results = pd.DataFrame(grid2.cv_results_)\n",
    "results.dtypes"
   ]
  },
  {
   "cell_type": "code",
   "execution_count": 37,
   "metadata": {},
   "outputs": [],
   "source": [
    "# Select columns with the parameter values \n",
    "# and average accuracy rates"
   ]
  },
  {
   "cell_type": "code",
   "execution_count": 38,
   "metadata": {},
   "outputs": [
    {
     "data": {
      "text/html": [
       "<div>\n",
       "<style scoped>\n",
       "    .dataframe tbody tr th:only-of-type {\n",
       "        vertical-align: middle;\n",
       "    }\n",
       "\n",
       "    .dataframe tbody tr th {\n",
       "        vertical-align: top;\n",
       "    }\n",
       "\n",
       "    .dataframe thead th {\n",
       "        text-align: right;\n",
       "    }\n",
       "</style>\n",
       "<table border=\"1\" class=\"dataframe\">\n",
       "  <thead>\n",
       "    <tr style=\"text-align: right;\">\n",
       "      <th></th>\n",
       "      <th>param_learning_rate</th>\n",
       "      <th>param_max_features</th>\n",
       "      <th>mean_test_score</th>\n",
       "    </tr>\n",
       "  </thead>\n",
       "  <tbody>\n",
       "    <tr>\n",
       "      <td>0</td>\n",
       "      <td>0.02</td>\n",
       "      <td>3</td>\n",
       "      <td>0.941423</td>\n",
       "    </tr>\n",
       "    <tr>\n",
       "      <td>1</td>\n",
       "      <td>0.02</td>\n",
       "      <td>4</td>\n",
       "      <td>0.953160</td>\n",
       "    </tr>\n",
       "    <tr>\n",
       "      <td>2</td>\n",
       "      <td>0.02</td>\n",
       "      <td>5</td>\n",
       "      <td>0.950807</td>\n",
       "    </tr>\n",
       "    <tr>\n",
       "      <td>3</td>\n",
       "      <td>0.02</td>\n",
       "      <td>6</td>\n",
       "      <td>0.950752</td>\n",
       "    </tr>\n",
       "    <tr>\n",
       "      <td>4</td>\n",
       "      <td>0.02</td>\n",
       "      <td>7</td>\n",
       "      <td>0.941341</td>\n",
       "    </tr>\n",
       "    <tr>\n",
       "      <td>5</td>\n",
       "      <td>0.02</td>\n",
       "      <td>8</td>\n",
       "      <td>0.948372</td>\n",
       "    </tr>\n",
       "    <tr>\n",
       "      <td>6</td>\n",
       "      <td>0.025</td>\n",
       "      <td>3</td>\n",
       "      <td>0.943776</td>\n",
       "    </tr>\n",
       "    <tr>\n",
       "      <td>7</td>\n",
       "      <td>0.025</td>\n",
       "      <td>4</td>\n",
       "      <td>0.953160</td>\n",
       "    </tr>\n",
       "    <tr>\n",
       "      <td>8</td>\n",
       "      <td>0.025</td>\n",
       "      <td>5</td>\n",
       "      <td>0.953133</td>\n",
       "    </tr>\n",
       "    <tr>\n",
       "      <td>9</td>\n",
       "      <td>0.025</td>\n",
       "      <td>6</td>\n",
       "      <td>0.953105</td>\n",
       "    </tr>\n",
       "    <tr>\n",
       "      <td>10</td>\n",
       "      <td>0.025</td>\n",
       "      <td>7</td>\n",
       "      <td>0.948372</td>\n",
       "    </tr>\n",
       "    <tr>\n",
       "      <td>11</td>\n",
       "      <td>0.025</td>\n",
       "      <td>8</td>\n",
       "      <td>0.955458</td>\n",
       "    </tr>\n",
       "    <tr>\n",
       "      <td>12</td>\n",
       "      <td>0.03</td>\n",
       "      <td>3</td>\n",
       "      <td>0.946101</td>\n",
       "    </tr>\n",
       "  </tbody>\n",
       "</table>\n",
       "</div>"
      ],
      "text/plain": [
       "   param_learning_rate param_max_features  mean_test_score\n",
       "0                 0.02                  3         0.941423\n",
       "1                 0.02                  4         0.953160\n",
       "2                 0.02                  5         0.950807\n",
       "3                 0.02                  6         0.950752\n",
       "4                 0.02                  7         0.941341\n",
       "5                 0.02                  8         0.948372\n",
       "6                0.025                  3         0.943776\n",
       "7                0.025                  4         0.953160\n",
       "8                0.025                  5         0.953133\n",
       "9                0.025                  6         0.953105\n",
       "10               0.025                  7         0.948372\n",
       "11               0.025                  8         0.955458\n",
       "12                0.03                  3         0.946101"
      ]
     },
     "execution_count": 38,
     "metadata": {},
     "output_type": "execute_result"
    }
   ],
   "source": [
    "list1 = list([4,5,12])\n",
    "df9 = results.iloc[:,list1].copy()\n",
    "df9[:13]"
   ]
  },
  {
   "cell_type": "code",
   "execution_count": 39,
   "metadata": {},
   "outputs": [
    {
     "data": {
      "text/html": [
       "<div>\n",
       "<style scoped>\n",
       "    .dataframe tbody tr th:only-of-type {\n",
       "        vertical-align: middle;\n",
       "    }\n",
       "\n",
       "    .dataframe tbody tr th {\n",
       "        vertical-align: top;\n",
       "    }\n",
       "\n",
       "    .dataframe thead th {\n",
       "        text-align: right;\n",
       "    }\n",
       "</style>\n",
       "<table border=\"1\" class=\"dataframe\">\n",
       "  <thead>\n",
       "    <tr style=\"text-align: right;\">\n",
       "      <th></th>\n",
       "      <th>param_learning_rate</th>\n",
       "      <th>param_max_features</th>\n",
       "      <th>mean_test_score</th>\n",
       "    </tr>\n",
       "  </thead>\n",
       "  <tbody>\n",
       "    <tr>\n",
       "      <td>0</td>\n",
       "      <td>0.020</td>\n",
       "      <td>3</td>\n",
       "      <td>0.941423</td>\n",
       "    </tr>\n",
       "    <tr>\n",
       "      <td>1</td>\n",
       "      <td>0.020</td>\n",
       "      <td>4</td>\n",
       "      <td>0.953160</td>\n",
       "    </tr>\n",
       "    <tr>\n",
       "      <td>2</td>\n",
       "      <td>0.020</td>\n",
       "      <td>5</td>\n",
       "      <td>0.950807</td>\n",
       "    </tr>\n",
       "    <tr>\n",
       "      <td>3</td>\n",
       "      <td>0.020</td>\n",
       "      <td>6</td>\n",
       "      <td>0.950752</td>\n",
       "    </tr>\n",
       "    <tr>\n",
       "      <td>4</td>\n",
       "      <td>0.020</td>\n",
       "      <td>7</td>\n",
       "      <td>0.941341</td>\n",
       "    </tr>\n",
       "    <tr>\n",
       "      <td>5</td>\n",
       "      <td>0.020</td>\n",
       "      <td>8</td>\n",
       "      <td>0.948372</td>\n",
       "    </tr>\n",
       "    <tr>\n",
       "      <td>6</td>\n",
       "      <td>0.025</td>\n",
       "      <td>3</td>\n",
       "      <td>0.943776</td>\n",
       "    </tr>\n",
       "    <tr>\n",
       "      <td>7</td>\n",
       "      <td>0.025</td>\n",
       "      <td>4</td>\n",
       "      <td>0.953160</td>\n",
       "    </tr>\n",
       "    <tr>\n",
       "      <td>8</td>\n",
       "      <td>0.025</td>\n",
       "      <td>5</td>\n",
       "      <td>0.953133</td>\n",
       "    </tr>\n",
       "    <tr>\n",
       "      <td>9</td>\n",
       "      <td>0.025</td>\n",
       "      <td>6</td>\n",
       "      <td>0.953105</td>\n",
       "    </tr>\n",
       "    <tr>\n",
       "      <td>10</td>\n",
       "      <td>0.025</td>\n",
       "      <td>7</td>\n",
       "      <td>0.948372</td>\n",
       "    </tr>\n",
       "    <tr>\n",
       "      <td>11</td>\n",
       "      <td>0.025</td>\n",
       "      <td>8</td>\n",
       "      <td>0.955458</td>\n",
       "    </tr>\n",
       "    <tr>\n",
       "      <td>12</td>\n",
       "      <td>0.030</td>\n",
       "      <td>3</td>\n",
       "      <td>0.946101</td>\n",
       "    </tr>\n",
       "  </tbody>\n",
       "</table>\n",
       "</div>"
      ],
      "text/plain": [
       "    param_learning_rate param_max_features  mean_test_score\n",
       "0                 0.020                  3         0.941423\n",
       "1                 0.020                  4         0.953160\n",
       "2                 0.020                  5         0.950807\n",
       "3                 0.020                  6         0.950752\n",
       "4                 0.020                  7         0.941341\n",
       "5                 0.020                  8         0.948372\n",
       "6                 0.025                  3         0.943776\n",
       "7                 0.025                  4         0.953160\n",
       "8                 0.025                  5         0.953133\n",
       "9                 0.025                  6         0.953105\n",
       "10                0.025                  7         0.948372\n",
       "11                0.025                  8         0.955458\n",
       "12                0.030                  3         0.946101"
      ]
     },
     "execution_count": 39,
     "metadata": {},
     "output_type": "execute_result"
    }
   ],
   "source": [
    "df9.param_learning_rate = df9.param_learning_rate.astype('float64')\n",
    "df9.param_learning_rate = df9.param_learning_rate.round(3)\n",
    "df9[:13]"
   ]
  },
  {
   "cell_type": "code",
   "execution_count": null,
   "metadata": {},
   "outputs": [],
   "source": [
    "# Show mean_test_score (the accuracy rate)\n",
    "# for each combination of: max_features, learning_rate\n",
    "# in a two-way table"
   ]
  },
  {
   "cell_type": "code",
   "execution_count": 40,
   "metadata": {},
   "outputs": [
    {
     "data": {
      "text/html": [
       "<div>\n",
       "<style scoped>\n",
       "    .dataframe tbody tr th:only-of-type {\n",
       "        vertical-align: middle;\n",
       "    }\n",
       "\n",
       "    .dataframe tbody tr th {\n",
       "        vertical-align: top;\n",
       "    }\n",
       "\n",
       "    .dataframe thead th {\n",
       "        text-align: right;\n",
       "    }\n",
       "</style>\n",
       "<table border=\"1\" class=\"dataframe\">\n",
       "  <thead>\n",
       "    <tr style=\"text-align: right;\">\n",
       "      <th>param_learning_rate</th>\n",
       "      <th>0.020</th>\n",
       "      <th>0.025</th>\n",
       "      <th>0.030</th>\n",
       "      <th>0.035</th>\n",
       "      <th>0.040</th>\n",
       "      <th>0.045</th>\n",
       "    </tr>\n",
       "    <tr>\n",
       "      <th>param_max_features</th>\n",
       "      <th></th>\n",
       "      <th></th>\n",
       "      <th></th>\n",
       "      <th></th>\n",
       "      <th></th>\n",
       "      <th></th>\n",
       "    </tr>\n",
       "  </thead>\n",
       "  <tbody>\n",
       "    <tr>\n",
       "      <td>3</td>\n",
       "      <td>0.941423</td>\n",
       "      <td>0.943776</td>\n",
       "      <td>0.946101</td>\n",
       "      <td>0.943748</td>\n",
       "      <td>0.946074</td>\n",
       "      <td>0.948427</td>\n",
       "    </tr>\n",
       "    <tr>\n",
       "      <td>4</td>\n",
       "      <td>0.953160</td>\n",
       "      <td>0.953160</td>\n",
       "      <td>0.957866</td>\n",
       "      <td>0.960192</td>\n",
       "      <td>0.960192</td>\n",
       "      <td>0.957839</td>\n",
       "    </tr>\n",
       "    <tr>\n",
       "      <td>5</td>\n",
       "      <td>0.950807</td>\n",
       "      <td>0.953133</td>\n",
       "      <td>0.960164</td>\n",
       "      <td>0.957811</td>\n",
       "      <td>0.962490</td>\n",
       "      <td>0.962490</td>\n",
       "    </tr>\n",
       "    <tr>\n",
       "      <td>6</td>\n",
       "      <td>0.950752</td>\n",
       "      <td>0.953105</td>\n",
       "      <td>0.948399</td>\n",
       "      <td>0.955458</td>\n",
       "      <td>0.964843</td>\n",
       "      <td>0.962490</td>\n",
       "    </tr>\n",
       "    <tr>\n",
       "      <td>7</td>\n",
       "      <td>0.941341</td>\n",
       "      <td>0.948372</td>\n",
       "      <td>0.948345</td>\n",
       "      <td>0.955404</td>\n",
       "      <td>0.957756</td>\n",
       "      <td>0.957811</td>\n",
       "    </tr>\n",
       "    <tr>\n",
       "      <td>8</td>\n",
       "      <td>0.948372</td>\n",
       "      <td>0.955458</td>\n",
       "      <td>0.962462</td>\n",
       "      <td>0.962462</td>\n",
       "      <td>0.967168</td>\n",
       "      <td>0.964788</td>\n",
       "    </tr>\n",
       "  </tbody>\n",
       "</table>\n",
       "</div>"
      ],
      "text/plain": [
       "param_learning_rate     0.020     0.025     0.030     0.035     0.040  \\\n",
       "param_max_features                                                      \n",
       "3                    0.941423  0.943776  0.946101  0.943748  0.946074   \n",
       "4                    0.953160  0.953160  0.957866  0.960192  0.960192   \n",
       "5                    0.950807  0.953133  0.960164  0.957811  0.962490   \n",
       "6                    0.950752  0.953105  0.948399  0.955458  0.964843   \n",
       "7                    0.941341  0.948372  0.948345  0.955404  0.957756   \n",
       "8                    0.948372  0.955458  0.962462  0.962462  0.967168   \n",
       "\n",
       "param_learning_rate     0.045  \n",
       "param_max_features             \n",
       "3                    0.948427  \n",
       "4                    0.957839  \n",
       "5                    0.962490  \n",
       "6                    0.962490  \n",
       "7                    0.957811  \n",
       "8                    0.964788  "
      ]
     },
     "execution_count": 40,
     "metadata": {},
     "output_type": "execute_result"
    }
   ],
   "source": [
    "df1 = df9.pivot_table('mean_test_score',\n",
    "                      columns = 'param_learning_rate',\n",
    "                      index = 'param_max_features')\n",
    "df1"
   ]
  },
  {
   "cell_type": "code",
   "execution_count": 52,
   "metadata": {},
   "outputs": [
    {
     "data": {
      "text/plain": [
       "Float64Index([0.02, 0.025, 0.03, 0.035, 0.04, 0.045], dtype='float64', name='param_learning_rate')"
      ]
     },
     "execution_count": 52,
     "metadata": {},
     "output_type": "execute_result"
    }
   ],
   "source": [
    "# column names\n",
    "df1.columns"
   ]
  },
  {
   "cell_type": "code",
   "execution_count": 55,
   "metadata": {},
   "outputs": [
    {
     "data": {
      "text/plain": [
       "Int64Index([3, 4, 5, 6, 7, 8], dtype='int64', name='param_max_features')"
      ]
     },
     "execution_count": 55,
     "metadata": {},
     "output_type": "execute_result"
    }
   ],
   "source": [
    "# row names\n",
    "df1.index"
   ]
  },
  {
   "cell_type": "code",
   "execution_count": 64,
   "metadata": {},
   "outputs": [
    {
     "data": {
      "text/plain": [
       "array([[0.941, 0.953, 0.951, 0.951, 0.941, 0.948],\n",
       "       [0.944, 0.953, 0.953, 0.953, 0.948, 0.955],\n",
       "       [0.946, 0.958, 0.96 , 0.948, 0.948, 0.962],\n",
       "       [0.944, 0.96 , 0.958, 0.955, 0.955, 0.962],\n",
       "       [0.946, 0.96 , 0.962, 0.965, 0.958, 0.967],\n",
       "       [0.948, 0.958, 0.962, 0.962, 0.958, 0.965]])"
      ]
     },
     "execution_count": 64,
     "metadata": {},
     "output_type": "execute_result"
    }
   ],
   "source": [
    "# transform df1 dataframe to numpy array\n",
    "arates = df1.values\n",
    "arates = np.round(arates,3)\n",
    "arates = arates.transpose()\n",
    "arates"
   ]
  },
  {
   "cell_type": "code",
   "execution_count": 66,
   "metadata": {},
   "outputs": [
    {
     "data": {
      "image/png": "[encoded data removed]",
      "text/plain": [
       "<Figure size 576x576 with 2 Axes>"
      ]
     },
     "metadata": {
      "needs_background": "light"
     },
     "output_type": "display_data"
    }
   ],
   "source": [
    "plt.figure(figsize=(8,8))\n",
    "plt.xticks(range(6),df1.columns)\n",
    "plt.yticks(range(6),df1.index)\n",
    "plt.ylabel('max_features')\n",
    "plt.xlabel('learning_rate')\n",
    "plt.title('Accuracy rates',c='r')\n",
    "plt.imshow(arates)\n",
    "for i in range(6):\n",
    "    for j in range(6):\n",
    "        text = plt.text(j,i,arates[i,j],\n",
    "                        ha=\"center\",\n",
    "                        va=\"center\",\n",
    "                        color=\"r\",\n",
    "                        size = 13)\n",
    "plt.colorbar();"
   ]
  },
  {
   "cell_type": "code",
   "execution_count": null,
   "metadata": {},
   "outputs": [],
   "source": []
  },
  {
   "cell_type": "code",
   "execution_count": null,
   "metadata": {},
   "outputs": [],
   "source": []
  },
  {
   "cell_type": "code",
   "execution_count": null,
   "metadata": {},
   "outputs": [],
   "source": []
  }
 ],
 "metadata": {
  "kernelspec": {
   "display_name": "Python 3",
   "language": "python",
   "name": "python3"
  },
  "language_info": {
   "codemirror_mode": {
    "name": "ipython",
    "version": 3
   },
   "file_extension": ".py",
   "mimetype": "text/x-python",
   "name": "python",
   "nbconvert_exporter": "python",
   "pygments_lexer": "ipython3",
   "version": "3.7.4"
  }
 },
 "nbformat": 4,
 "nbformat_minor": 2
}
